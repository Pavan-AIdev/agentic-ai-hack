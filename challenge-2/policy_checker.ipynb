{
 "cells": [
  {
   "cell_type": "markdown",
   "metadata": {},
   "source": [
    "# Policy Checker with Azure AI Search\n",
    "\n",
    "This notebook demonstrates how to use agent operations with the Azure AI Search tool from the Azure Agents service using a synchronous client."
   ]
  },
  {
   "cell_type": "markdown",
   "metadata": {},
   "source": [
    "## Setup and Imports"
   ]
  },
  {
   "cell_type": "code",
   "execution_count": 1,
   "metadata": {},
   "outputs": [
    {
     "name": "stdout",
     "output_type": "stream",
     "text": [
      "✅ Libraries imported and environment variables loaded\n"
     ]
    }
   ],
   "source": [
    "# Import necessary libraries and modules\n",
    "import os\n",
    "from dotenv import load_dotenv\n",
    "from azure.identity import DefaultAzureCredential\n",
    "from azure.ai.projects import AIProjectClient\n",
    "from azure.ai.agents.models import AzureAISearchQueryType, AzureAISearchTool, ListSortOrder, MessageRole\n",
    "\n",
    "# Load environment variables from .env file\n",
    "load_dotenv(override=True)  # This forces a reload of the .env file\n",
    "\n",
    "print(\"✅ Libraries imported and environment variables loaded\")"
   ]
  },
  {
   "cell_type": "markdown",
   "metadata": {},
   "source": [
    "## Configuration"
   ]
  },
  {
   "cell_type": "code",
   "execution_count": 8,
   "metadata": {},
   "outputs": [
    {
     "name": "stdout",
     "output_type": "stream",
     "text": [
      "Created agent, ID: asst_mkx5KyubypWBuzDiaYs2ShEd\n",
      "Created thread, ID: thread_MnHil91IvJj9Zs1pEJ3ik8Go\n",
      "Created thread, ID: thread_MnHil91IvJj9Zs1pEJ3ik8Go\n",
      "Created message, ID: msg_BeIPqSobHnqZ4X0UidtySo6i\n",
      "Created message, ID: msg_BeIPqSobHnqZ4X0UidtySo6i\n",
      "Run finished with status: RunStatus.COMPLETED\n",
      "COVERED: The most comprehensive insurance policies for cars are typically Comprehensive Auto Policies. These policies provide broad coverage including physical damage to your vehicle from non-collision events such as theft, fire, vandalism, natural disasters, and falling objects, in addition to collision coverage for accidents. Such policies usually include liability coverage for bodily injury and property damage, medical payments, uninsured motorist protection, and often roadside assistance. Coverage limits and deductibles vary by policy but typically are customizable. Relevant sections to review are \"Comprehensive Coverage\" and \"Collision Coverage\" in the policy document. Be aware of exclusions such as mechanical breakdowns or wear-and-tear, which are not covered. For the best protection, verify the policy period, ensure coverage limits meet your needs, and confirm any additional endorsements like rental reimbursement or gap coverage. If you want, I can analyze specific policy documents to confirm coverage details and advise on any gaps or restrictions.\n",
      "Run finished with status: RunStatus.COMPLETED\n",
      "COVERED: The most comprehensive insurance policies for cars are typically Comprehensive Auto Policies. These policies provide broad coverage including physical damage to your vehicle from non-collision events such as theft, fire, vandalism, natural disasters, and falling objects, in addition to collision coverage for accidents. Such policies usually include liability coverage for bodily injury and property damage, medical payments, uninsured motorist protection, and often roadside assistance. Coverage limits and deductibles vary by policy but typically are customizable. Relevant sections to review are \"Comprehensive Coverage\" and \"Collision Coverage\" in the policy document. Be aware of exclusions such as mechanical breakdowns or wear-and-tear, which are not covered. For the best protection, verify the policy period, ensure coverage limits meet your needs, and confirm any additional endorsements like rental reimbursement or gap coverage. If you want, I can analyze specific policy documents to confirm coverage details and advise on any gaps or restrictions.\n"
     ]
    }
   ],
   "source": [
    "# Retrieve endpoint and model deployment name from environment variables\n",
    "project_endpoint = os.environ.get(\"AI_FOUNDRY_PROJECT_ENDPOINT\")  # Ensure the PROJECT_ENDPOINT environment variable is set\n",
    "model_deployment_name = os.environ.get(\"MODEL_DEPLOYMENT_NAME\")  # Ensure the MODEL_DEPLOYMENT_NAME environment variable is set\n",
    "sc_connection_id = os.environ.get(\"AZURE_AI_CONNECTION_ID\")  # Ensure the AZURE_AI_CONNECTION_ID environment variable is set\n",
    "\n",
    "project_client = AIProjectClient(\n",
    "    endpoint=project_endpoint,\n",
    "    credential=DefaultAzureCredential(exclude_interactive_browser_credential=False),  # Use Azure Default Credential for authentication\n",
    ")\n",
    "\n",
    "with project_client:\n",
    "    # Initialize the Azure AI Search tool with the required parameters\n",
    "    ai_search = AzureAISearchTool(\n",
    "        index_connection_id=sc_connection_id,  # Ensure the AZURE_AI_CONNECTION_ID environment variable is set\n",
    "        index_name=\"insurance-documents-index\",  # Name of the search index\n",
    "        query_type=AzureAISearchQueryType.SIMPLE,  # Query type (e.g., SIMPLE, FULL)\n",
    "        top_k=3,  # Number of top results to retrieve\n",
    "        filter=\"\",  # Optional filter for search results\n",
    "    )\n",
    "\n",
    "    # Create an agent with the specified model, name, instructions, and tools\n",
    "    agent = project_client.agents.create_agent(\n",
    "        model=model_deployment_name,  # Model deployment name\n",
    "        name=\"policy-checker\",  # Name of the agent\n",
    "        instructions=\n",
    "        \"\"\"\"\n",
    "        You are an expert Insurance Policy Checker Agent specialized in analyzing auto insurance policies and validating claim coverage. Your primary responsibilities include:\n",
    "\n",
    "        **Core Functions:**\n",
    "        - Analyze insurance policy documents to determine coverage details\n",
    "        - Validate if specific claims are covered under policy terms\n",
    "        - Explain policy limits, deductibles, and exclusions\n",
    "        - Identify coverage gaps or restrictions\n",
    "        - Provide clear explanations of policy benefits\n",
    "\n",
    "        **Policy Types You Handle:**\n",
    "        - Commercial Auto Policies\n",
    "        - Comprehensive Auto Policies  \n",
    "        - High Value Vehicle Policies\n",
    "        - Liability Only Policies\n",
    "        - Motorcycle Policies\n",
    "\n",
    "        **Analysis Guidelines:**\n",
    "        1. Always reference specific policy sections when providing coverage determinations\n",
    "        2. Clearly state coverage limits, deductibles, and any applicable restrictions\n",
    "        3. Identify any exclusions that may apply to the claim\n",
    "        4. Be precise about effective dates and policy periods\n",
    "        5. Flag any discrepancies between claim details and policy terms\n",
    "\n",
    "        **Response Format:**\n",
    "        - Start with a clear coverage determination (COVERED/NOT COVERED/PARTIAL COVERAGE)\n",
    "        - Provide the specific policy section reference\n",
    "        - Explain coverage limits and deductibles\n",
    "        - List any relevant exclusions or conditions\n",
    "        - Suggest next steps if coverage issues exist\n",
    "        - Everything in a clear, concise manner in one paragraph.\n",
    "\n",
    "        **Tone:** Professional, accurate, and helpful. Always be thorough in your analysis while remaining clear and concise.\n",
    "\n",
    "        When you cannot find specific information in the policy documents, clearly state what information is missing and what additional documentation would be needed.\n",
    "        \"\"\",  # Instructions for the agent\n",
    "        tools=ai_search.definitions,  # Tools available to the agent\n",
    "        tool_resources=ai_search.resources,  # Resources for the tools\n",
    "    )\n",
    "    print(f\"Created agent, ID: {agent.id}\")\n",
    "\n",
    "    # Create a thread for communication with the agent\n",
    "    thread = project_client.agents.threads.create()\n",
    "    print(f\"Created thread, ID: {thread.id}\")\n",
    "\n",
    "    # Send a message to the thread\n",
    "    message = project_client.agents.messages.create(\n",
    "        thread_id=thread.id,  # ID of the thread\n",
    "        role=MessageRole.USER,  # Role of the message sender (e.g., user)\n",
    "        content=\"What are the most comprehensive insurance policies for cars?\",  # Message content\n",
    "    )\n",
    "    print(f\"Created message, ID: {message['id']}\")\n",
    "\n",
    "    # Create and process an agent run in the thread using the tools\n",
    "    run = project_client.agents.runs.create_and_process(thread_id=thread.id, agent_id=agent.id)\n",
    "    print(f\"Run finished with status: {run.status}\")\n",
    "\n",
    "    if run.status == \"failed\":\n",
    "        # Log the error if the run fails\n",
    "        print(f\"Run failed: {run.last_error}\")\n",
    "\n",
    "    # Fetch and log all messages from the thread\n",
    "    messages = project_client.agents.messages.list(thread_id=thread.id, order=ListSortOrder.ASCENDING)\n",
    "    for message in messages:\n",
    "        # Only show the agent's response, not the user's question\n",
    "        if message.role == MessageRole.AGENT:\n",
    "            if message.content and len(message.content) > 0:\n",
    "                content_item = message.content[0]\n",
    "                if content_item.get('type') == 'text' and 'text' in content_item:\n",
    "                    agent_response = content_item['text']['value']\n",
    "                    print(agent_response)\n",
    "                    break  # Only show the first agent response"
   ]
  },
  {
   "cell_type": "markdown",
   "metadata": {},
   "source": [
    "Amazing! So what you have done so far is creating an agent, that consults the Azure AI Search Index that searches on your policies databases. Your query has made it such as it replies to your query with a text based solution. Let's print it out!"
   ]
  },
  {
   "cell_type": "code",
   "execution_count": 10,
   "metadata": {},
   "outputs": [
    {
     "name": "stdout",
     "output_type": "stream",
     "text": [
      "Created agent, ID: asst_NYqE54ktEPxYEYNS4rKTZXnB\n"
     ]
    }
   ],
   "source": [
    "# Cell 1: Create the agent and print/save its ID\n",
    "import os\n",
    "from dotenv import load_dotenv\n",
    "from azure.identity import DefaultAzureCredential\n",
    "from azure.ai.projects import AIProjectClient\n",
    "from azure.ai.agents.models import AzureAISearchQueryType, AzureAISearchTool\n",
    "\n",
    "load_dotenv(override=True)\n",
    "project_endpoint = os.environ.get(\"AI_FOUNDRY_PROJECT_ENDPOINT\")\n",
    "model_deployment_name = os.environ.get(\"MODEL_DEPLOYMENT_NAME\")\n",
    "sc_connection_id = os.environ.get(\"AZURE_AI_CONNECTION_ID\")\n",
    "\n",
    "project_client = AIProjectClient(\n",
    "    endpoint=project_endpoint,\n",
    "    credential=DefaultAzureCredential(exclude_interactive_browser_credential=False),\n",
    ")\n",
    "\n",
    "with project_client:\n",
    "    ai_search = AzureAISearchTool(\n",
    "        index_connection_id=sc_connection_id,\n",
    "        index_name=\"insurance-documents-index\",\n",
    "        query_type=AzureAISearchQueryType.SIMPLE,\n",
    "        top_k=3,\n",
    "        filter=\"\",\n",
    "    )\n",
    "    agent = project_client.agents.create_agent(\n",
    "        model=model_deployment_name,\n",
    "        name=\"policy-checker\",\n",
    "        instructions=\"\"\"\n",
    "        You are an expert Insurance Policy Checker Agent specialized in analyzing auto insurance policies and validating claim coverage. Your primary responsibilities include: ... (instructions truncated) ...\n",
    "        \"\"\",\n",
    "        tools=ai_search.definitions,\n",
    "        tool_resources=ai_search.resources,\n",
    "    )\n",
    "    agent_id = agent.id\n",
    "    print(f\"Created agent, ID: {agent_id}\")\n",
    "# Save agent_id for use in other cells"
   ]
  },
  {
   "cell_type": "code",
   "execution_count": 11,
   "metadata": {},
   "outputs": [
    {
     "name": "stdout",
     "output_type": "stream",
     "text": [
      "Created thread, ID: thread_M2kPUqYgnwSFzYQ1U8xmfHxr\n",
      "Created message, ID: msg_Tmb6G2KTCu0PPhmJldyy0ukz\n",
      "Created message, ID: msg_Tmb6G2KTCu0PPhmJldyy0ukz\n",
      "Run finished with status: RunStatus.COMPLETED\n",
      "Run finished with status: RunStatus.COMPLETED\n",
      "The most comprehensive car insurance policies typically include the following coverages:\n",
      "\n",
      "1. **Liability Coverage**: Covers bodily injury and property damage that you cause to others.\n",
      "2. **Collision Coverage**: Pays for damage to your car resulting from a collision with another vehicle or object.\n",
      "3. **Comprehensive Coverage**: Covers damage to your car from non-collision events such as theft, fire, vandalism, natural disasters, and falling objects.\n",
      "4. **Personal Injury Protection (PIP)** or **Medical Payments Coverage**: Covers medical expenses for you and your passengers regardless of fault.\n",
      "5. **Uninsured/Underinsured Motorist Coverage**: Protects you if you're hit by a driver who has no insurance or insufficient insurance.\n",
      "6. **Rental Reimbursement Coverage**: Pays for a rental car while your vehicle is being repaired due to a covered loss.\n",
      "7. **Roadside Assistance**: Offers help with towing, tire changes, or lockouts.\n",
      "8. **Gap Insurance**: Covers the difference between your car’s actual cash value and the balance you owe on your lease or loan if your car is totaled.\n",
      "\n",
      "Policies that bundle most or all of these coverages provide the most comprehensive protection. Major insurers often customize these packages, and some offer additional endorsements or riders to enhance coverage.\n",
      "\n",
      "If you have specific policies or documents you want me to analyze for coverage comprehensiveness, feel free to upload them!\n",
      "The most comprehensive car insurance policies typically include the following coverages:\n",
      "\n",
      "1. **Liability Coverage**: Covers bodily injury and property damage that you cause to others.\n",
      "2. **Collision Coverage**: Pays for damage to your car resulting from a collision with another vehicle or object.\n",
      "3. **Comprehensive Coverage**: Covers damage to your car from non-collision events such as theft, fire, vandalism, natural disasters, and falling objects.\n",
      "4. **Personal Injury Protection (PIP)** or **Medical Payments Coverage**: Covers medical expenses for you and your passengers regardless of fault.\n",
      "5. **Uninsured/Underinsured Motorist Coverage**: Protects you if you're hit by a driver who has no insurance or insufficient insurance.\n",
      "6. **Rental Reimbursement Coverage**: Pays for a rental car while your vehicle is being repaired due to a covered loss.\n",
      "7. **Roadside Assistance**: Offers help with towing, tire changes, or lockouts.\n",
      "8. **Gap Insurance**: Covers the difference between your car’s actual cash value and the balance you owe on your lease or loan if your car is totaled.\n",
      "\n",
      "Policies that bundle most or all of these coverages provide the most comprehensive protection. Major insurers often customize these packages, and some offer additional endorsements or riders to enhance coverage.\n",
      "\n",
      "If you have specific policies or documents you want me to analyze for coverage comprehensiveness, feel free to upload them!\n"
     ]
    }
   ],
   "source": [
    "# Cell 2: Use the agent ID in a new session/cell for queries\n",
    "import os\n",
    "from dotenv import load_dotenv\n",
    "from azure.identity import DefaultAzureCredential\n",
    "from azure.ai.projects import AIProjectClient\n",
    "from azure.ai.agents.models import ListSortOrder, MessageRole\n",
    "\n",
    "load_dotenv(override=True)\n",
    "project_endpoint = os.environ.get(\"AI_FOUNDRY_PROJECT_ENDPOINT\")\n",
    "agent_id = \"asst_NYqE54ktEPxYEYNS4rKTZXnB\"  # Replace with the agent_id printed from the previous cell\n",
    "\n",
    "project_client = AIProjectClient(\n",
    "    endpoint=project_endpoint,\n",
    "    credential=DefaultAzureCredential(exclude_interactive_browser_credential=False),\n",
    ")\n",
    "\n",
    "user_query = \"What are the most comprehensive insurance policies for cars?\"\n",
    "\n",
    "with project_client:\n",
    "    thread = project_client.agents.threads.create()\n",
    "    print(f\"Created thread, ID: {thread.id}\")\n",
    "    message = project_client.agents.messages.create(\n",
    "        thread_id=thread.id,\n",
    "        role=MessageRole.USER,\n",
    "        content=user_query,\n",
    "    )\n",
    "    print(f\"Created message, ID: {message['id']}\")\n",
    "    run = project_client.agents.runs.create_and_process(thread_id=thread.id, agent_id=agent_id)\n",
    "    print(f\"Run finished with status: {run.status}\")\n",
    "    if run.status == \"failed\":\n",
    "        print(f\"Run failed: {run.last_error}\")\n",
    "    messages = project_client.agents.messages.list(thread_id=thread.id, order=ListSortOrder.ASCENDING)\n",
    "    for message in messages:\n",
    "        if message.role == MessageRole.AGENT:\n",
    "            if message.content and len(message.content) > 0:\n",
    "                content_item = message.content[0]\n",
    "                if content_item.get('type') == 'text' and 'text' in content_item:\n",
    "                    agent_response = content_item['text']['value']\n",
    "                    print(agent_response)\n",
    "                    break"
   ]
  }
 ],
 "metadata": {
  "kernelspec": {
   "display_name": "Python 3",
   "language": "python",
   "name": "python3"
  },
  "language_info": {
   "codemirror_mode": {
    "name": "ipython",
    "version": 3
   },
   "file_extension": ".py",
   "mimetype": "text/x-python",
   "name": "python",
   "nbconvert_exporter": "python",
   "pygments_lexer": "ipython3",
   "version": "3.11.13"
  }
 },
 "nbformat": 4,
 "nbformat_minor": 4
}
